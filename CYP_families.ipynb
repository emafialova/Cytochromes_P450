{
 "cells": [
  {
   "cell_type": "markdown",
   "metadata": {},
   "source": [
    "Searching for families and subfamilies within UniProt"
   ]
  },
  {
   "cell_type": "code",
   "execution_count": null,
   "metadata": {},
   "outputs": [],
   "source": [
    "import pandas as pd\n",
    "df = pd.read_csv('Cytochrome_P450_database.csv', delimiter = \";\")\n",
    "df1 = df.copy()\n",
    "df1"
   ]
  },
  {
   "cell_type": "code",
   "execution_count": null,
   "metadata": {},
   "outputs": [],
   "source": [
    "import requests\n",
    "def search_CYP(enzyme_name):\n",
    "    url=f\"https://rest.uniprot.org/uniprot/{enzyme_name}\"\n",
    "## fetch the json response\n",
    "    data = requests.get(url).json()\n",
    "    try:\n",
    "        # Attempt to extract the CYP value from the JSON response\n",
    "        value = data['genes'][0]['geneName']['value']\n",
    "        return value\n",
    "    except (KeyError, IndexError):\n",
    "        # Handle cases where the required data is not found\n",
    "        return None"
   ]
  },
  {
   "cell_type": "code",
   "execution_count": null,
   "metadata": {},
   "outputs": [],
   "source": [
    "i = search_CYP('P0DO13')\n",
    "print(i)"
   ]
  },
  {
   "cell_type": "code",
   "execution_count": null,
   "metadata": {},
   "outputs": [],
   "source": [
    "for i, row in df1.iterrows():\n",
    "    code = search_CYP(str(row['protein']))\n",
    "    if 'CYP' in str(code).upper():\n",
    "        df1.loc[i,'enzyme_code'] = code\n",
    "    else:\n",
    "        df1.loc[i,'enzyme_code'] = None"
   ]
  }
 ],
 "metadata": {
  "kernelspec": {
   "display_name": "Python 3",
   "language": "python",
   "name": "python3"
  },
  "language_info": {
   "codemirror_mode": {
    "name": "ipython",
    "version": 3
   },
   "file_extension": ".py",
   "mimetype": "text/x-python",
   "name": "python",
   "nbconvert_exporter": "python",
   "pygments_lexer": "ipython3",
   "version": "3.11.2"
  }
 },
 "nbformat": 4,
 "nbformat_minor": 2
}
